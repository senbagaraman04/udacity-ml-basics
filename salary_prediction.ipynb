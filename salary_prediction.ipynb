{
 "cells": [
  {
   "cell_type": "code",
   "execution_count": 90,
   "id": "c5c8cf2a-cb22-4afd-ab6a-143aa860dc05",
   "metadata": {},
   "outputs": [],
   "source": [
    "#https://copycoding.com/d/your-first-machine-learning-project-in-python-with-step-by-step-instructions\n",
    "\n",
    "\n",
    "# Predicting the salary of a data-scientist based on the  number of experience\n",
    "\n",
    "import pandas\n",
    "import numpy as np\n",
    "import matplotlib.pyplot as plt\n",
    "from sklearn.metrics import accuracy_score"
   ]
  },
  {
   "cell_type": "markdown",
   "id": "1c6fe007-76fc-40f0-bcd4-6fb618187472",
   "metadata": {},
   "source": [
    "Our First Project : \n",
    "\n",
    "Lets predict the salary of a data scientist based on his working experience in years.\n",
    "\n",
    "Based on the number of years of experience, we are going to predict the salary\n",
    "\n",
    "Years of experience \tSalary($)\n",
    "\n",
    "1\t110,000\n",
    "\n",
    "2\t120,000\n",
    "\n",
    "3\t130,000\n",
    "\n",
    "4\t140,000\n",
    "\n",
    "5\t150,000\n",
    "\n",
    "6\t160,000\n",
    "\n",
    "7\t170,000\n",
    "\n",
    "8\t180,000\n",
    "\n",
    "9\t190,000\n",
    "\n",
    "10\t200,000"
   ]
  },
  {
   "cell_type": "code",
   "execution_count": 58,
   "id": "4fd4fc38-af51-45c2-91cd-171e8eb71715",
   "metadata": {},
   "outputs": [],
   "source": [
    "#Load training dataset\n",
    "url = \"https://raw.githubusercontent.com/callxpert/datasets/master/data-scientist-salaries.cc\"\n",
    "names = ['Years-experience', 'Salary']\n",
    "dataset = pandas.read_csv(url, names=names)"
   ]
  },
  {
   "cell_type": "code",
   "execution_count": 60,
   "id": "42513503-58b5-490d-a634-e58e082f0e23",
   "metadata": {},
   "outputs": [
    {
     "data": {
      "text/plain": [
       "(10, 2)"
      ]
     },
     "execution_count": 60,
     "metadata": {},
     "output_type": "execute_result"
    }
   ],
   "source": [
    "#As we loaded the dataset , we need to see the dimension of them \n",
    "\n",
    "dataset.shape\n"
   ]
  },
  {
   "cell_type": "code",
   "execution_count": 61,
   "id": "bf24982b-1f46-4ecf-90da-a1e2b6654d02",
   "metadata": {},
   "outputs": [
    {
     "name": "stdout",
     "output_type": "stream",
     "text": [
      "   Years-experience  Salary\n",
      "0                 1  110000\n",
      "1                 2  120000\n",
      "2                 3  130000\n",
      "3                 4  140000\n",
      "4                 5  150000\n"
     ]
    }
   ],
   "source": [
    "# the above (10,2) shows that 10 rows and 2 columns(attributes)\n",
    "\n",
    "# we will print the first 5 rows to see the values\n",
    "\n",
    "print(dataset.head(5))"
   ]
  },
  {
   "cell_type": "code",
   "execution_count": 62,
   "id": "90dcbe1f-30ca-4613-998f-4fcdc93adce9",
   "metadata": {},
   "outputs": [
    {
     "name": "stdout",
     "output_type": "stream",
     "text": [
      "       Years-experience         Salary\n",
      "count          10.00000      10.000000\n",
      "mean            5.50000  155000.000000\n",
      "std             3.02765   30276.503541\n",
      "min             1.00000  110000.000000\n",
      "25%             3.25000  132500.000000\n",
      "50%             5.50000  155000.000000\n",
      "75%             7.75000  177500.000000\n",
      "max            10.00000  200000.000000\n"
     ]
    }
   ],
   "source": [
    "# now find the mathematical values associated with the dataset.\n",
    "\n",
    "print(dataset.describe())"
   ]
  },
  {
   "cell_type": "code",
   "execution_count": 63,
   "id": "aed9198e-9382-46c5-92db-a43e95e9b74d",
   "metadata": {},
   "outputs": [
    {
     "data": {
      "image/png": "[encoded data removed]",
      "text/plain": [
       "<Figure size 432x288 with 1 Axes>"
      ]
     },
     "metadata": {
      "needs_background": "light"
     },
     "output_type": "display_data"
    }
   ],
   "source": [
    "# now visualize the dataset using plots to understand\n",
    "\n",
    "dataset.plot()\n",
    "plt.show()"
   ]
  },
  {
   "cell_type": "code",
   "execution_count": 68,
   "id": "df73624f-68fe-41b7-8846-9c33cf1073b9",
   "metadata": {},
   "outputs": [],
   "source": [
    "# now split the data into two parts : test and train\n",
    "\n",
    "# though the dataset is too small( 10 rows), we will take 9 rows for training and 1 row for testing.\n",
    "\n",
    "X = dataset[['Years-experience']]\n",
    "y = dataset[['Salary']]"
   ]
  },
  {
   "cell_type": "code",
   "execution_count": 69,
   "id": "8c5dc3b9-6659-4889-acb7-d140d7f3ac41",
   "metadata": {},
   "outputs": [],
   "source": [
    "from sklearn.model_selection import train_test_split\n",
    "X_train, X_test, y_train, y_test = train_test_split(X, y, test_size=0.1, random_state=101)"
   ]
  },
  {
   "cell_type": "code",
   "execution_count": 72,
   "id": "e4294534-b371-4b7c-9a53-543c5756e97c",
   "metadata": {},
   "outputs": [
    {
     "name": "stdout",
     "output_type": "stream",
     "text": [
      "   Years-experience\n",
      "2                 3\n",
      "0                 1\n",
      "4                 5\n",
      "9                10\n",
      "3                 4\n",
      "5                 6\n",
      "7                 8\n",
      "6                 7\n",
      "1                 2\n",
      "   Salary\n",
      "2  130000\n",
      "0  110000\n",
      "4  150000\n",
      "9  200000\n",
      "3  140000\n",
      "5  160000\n",
      "7  180000\n",
      "6  170000\n",
      "1  120000\n",
      "Test Data\n",
      "   Years-experience\n",
      "8                 9\n",
      "   Salary\n",
      "8  190000\n"
     ]
    }
   ],
   "source": [
    "print (X_train)\n",
    "print (y_train)\n",
    "print (\"Test Data\")\n",
    "print (X_test)\n",
    "print (y_test)"
   ]
  },
  {
   "cell_type": "code",
   "execution_count": 84,
   "id": "a7f203f6-ab6c-43ba-b28a-676168894de2",
   "metadata": {},
   "outputs": [
    {
     "data": {
      "text/plain": [
       "LinearRegression()"
      ]
     },
     "execution_count": 84,
     "metadata": {},
     "output_type": "execute_result"
    }
   ],
   "source": [
    "# We are in the third step \n",
    "\n",
    "# 1. Identify the issue : Find the salary of a DS based on experience\n",
    "# 2. Prepare the dataset: Dataset has been analyssed, splitted \n",
    "# 3. Train the Model : Identify a model for the issue and train it.\n",
    "\n",
    "#Since we have continuous number , we will choose linear regression\n",
    "\n",
    "from sklearn.linear_model import LinearRegression\n",
    "model = LinearRegression()\n",
    "model.fit(X_train,y_train)"
   ]
  },
  {
   "cell_type": "code",
   "execution_count": 78,
   "id": "99cd391f-83ce-4947-a39b-d66e79acf721",
   "metadata": {},
   "outputs": [],
   "source": [
    "#We have our trained model and now we should start using it for predictions.\n",
    "#Let us use our testing dataset that we have to estimate the accuracy of our model"
   ]
  },
  {
   "cell_type": "code",
   "execution_count": 85,
   "id": "177825da-3857-4370-9003-4d700bf65416",
   "metadata": {},
   "outputs": [
    {
     "name": "stdout",
     "output_type": "stream",
     "text": [
      "1.0\n"
     ]
    }
   ],
   "source": [
    "#first predict the model using the test data set\n",
    "predictions = model.predict(X_test)\n",
    "\n",
    "#now try to print the testing score\n",
    "print(accuracy_score(y_test,predictions))"
   ]
  },
  {
   "cell_type": "code",
   "execution_count": 89,
   "id": "f6787553-dbde-49bb-9014-77ace60ba85c",
   "metadata": {},
   "outputs": [
    {
     "name": "stdout",
     "output_type": "stream",
     "text": [
      "[[198000.]]\n"
     ]
    }
   ],
   "source": [
    "#We are getting 1.0 which is 100% accuracy for our model.\n",
    "#Which is the ideal accuracy score. In Production systems, anything over a 90% is considered a successful model\n",
    "\n",
    "#We can also test our model with our own input\n",
    "\n",
    "#Lets try how much money does a person with 5.3 years of experience can make\n",
    "print(model.predict([[9.8]]))\n",
    "\n"
   ]
  },
  {
   "cell_type": "code",
   "execution_count": null,
   "id": "99055586-5731-441d-bbbf-5d1c62689200",
   "metadata": {},
   "outputs": [],
   "source": []
  }
 ],
 "metadata": {
  "kernelspec": {
   "display_name": "Python 3",
   "language": "python",
   "name": "python3"
  },
  "language_info": {
   "codemirror_mode": {
    "name": "ipython",
    "version": 3
   },
   "file_extension": ".py",
   "mimetype": "text/x-python",
   "name": "python",
   "nbconvert_exporter": "python",
   "pygments_lexer": "ipython3",
   "version": "3.8.8"
  }
 },
 "nbformat": 4,
 "nbformat_minor": 5
}
