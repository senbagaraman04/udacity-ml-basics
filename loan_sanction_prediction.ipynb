{
 "cells": [
  {
   "cell_type": "code",
   "execution_count": 24,
   "id": "f1a328da-c48a-4c35-ba4a-2998d4f9ce41",
   "metadata": {},
   "outputs": [],
   "source": [
    "# Our Third Project : Predict if the loan application will get approved\n",
    "# https://copycoding.com/d/machine-learning-project-in-python-to-predict-loan-approval-prediction-part-6-of-6-"
   ]
  },
  {
   "cell_type": "code",
   "execution_count": 2,
   "id": "cd7b59d5-35a8-4f00-aa2f-65f25edb5047",
   "metadata": {},
   "outputs": [],
   "source": [
    "#Load libraries\n",
    "import pandas as pd\n",
    "import numpy as np\n",
    "import matplotlib.pyplot as plt\n",
    "from sklearn import model_selection\n",
    "from sklearn.metrics import accuracy_score\n",
    "from sklearn.linear_model import LogisticRegression\n",
    "from sklearn.linear_model import LinearRegression\n",
    "from sklearn.ensemble import RandomForestClassifier\n",
    "from sklearn.neighbors import KNeighborsClassifier\n",
    "from sklearn.svm import SVC\n",
    "from sklearn.tree import DecisionTreeClassifier, export_graphviz"
   ]
  },
  {
   "cell_type": "code",
   "execution_count": 4,
   "id": "6131a280-2926-4f90-bec3-594c7388a637",
   "metadata": {},
   "outputs": [],
   "source": [
    "#Load dataset\n",
    "url = \"https://raw.githubusercontent.com/callxpert/datasets/master/Loan-applicant-details.csv\"\n",
    "names = ['Loan_ID','Gender','Married','Dependents','Education','Self_Employed','ApplicantIncome','CoapplicantIncome','LoanAmount','Loan_Amount_Term','Credit_History','Property_Area','Loan_Status']\n",
    "dataset = pd.read_csv(url, names=names)"
   ]
  },
  {
   "cell_type": "code",
   "execution_count": 5,
   "id": "aaad81db-f12d-42bc-9e69-07595914cf25",
   "metadata": {},
   "outputs": [
    {
     "name": "stdout",
     "output_type": "stream",
     "text": [
      "     Loan_ID  Gender Married Dependents     Education Self_Employed  \\\n",
      "0   LP001003    Male     Yes          1      Graduate            No   \n",
      "1   LP001005    Male     Yes          0      Graduate           Yes   \n",
      "2   LP001006    Male     Yes          0  Not Graduate            No   \n",
      "3   LP001008    Male      No          0      Graduate            No   \n",
      "4   LP001011    Male     Yes          2      Graduate           Yes   \n",
      "5   LP001013    Male     Yes          0  Not Graduate            No   \n",
      "6   LP001014    Male     Yes         3+      Graduate            No   \n",
      "7   LP001018    Male     Yes          2      Graduate            No   \n",
      "8   LP001020    Male     Yes          1      Graduate            No   \n",
      "9   LP001024    Male     Yes          2      Graduate            No   \n",
      "10  LP001028    Male     Yes          2      Graduate            No   \n",
      "11  LP001029    Male      No          0      Graduate            No   \n",
      "12  LP001030    Male     Yes          2      Graduate            No   \n",
      "13  LP001032    Male      No          0      Graduate            No   \n",
      "14  LP001036  Female      No          0      Graduate            No   \n",
      "15  LP001038    Male     Yes          0  Not Graduate            No   \n",
      "16  LP001043    Male     Yes          0  Not Graduate            No   \n",
      "17  LP001046    Male     Yes          1      Graduate            No   \n",
      "18  LP001047    Male     Yes          0  Not Graduate            No   \n",
      "19  LP001066    Male     Yes          0      Graduate           Yes   \n",
      "\n",
      "    ApplicantIncome  CoapplicantIncome  LoanAmount  Loan_Amount_Term  \\\n",
      "0              4583             1508.0         128               360   \n",
      "1              3000                0.0          66               360   \n",
      "2              2583             2358.0         120               360   \n",
      "3              6000                0.0         141               360   \n",
      "4              5417             4196.0         267               360   \n",
      "5              2333             1516.0          95               360   \n",
      "6              3036             2504.0         158               360   \n",
      "7              4006             1526.0         168               360   \n",
      "8             12841            10968.0         349               360   \n",
      "9              3200              700.0          70               360   \n",
      "10             3073             8106.0         200               360   \n",
      "11             1853             2840.0         114               360   \n",
      "12             1299             1086.0          17               120   \n",
      "13             4950                0.0         125               360   \n",
      "14             3510                0.0          76               360   \n",
      "15             4887                0.0         133               360   \n",
      "16             7660                0.0         104               360   \n",
      "17             5955             5625.0         315               360   \n",
      "18             2600             1911.0         116               360   \n",
      "19             9560                0.0         191               360   \n",
      "\n",
      "    Credit_History Property_Area Loan_Status  \n",
      "0                1         Rural           N  \n",
      "1                1         Urban           Y  \n",
      "2                1         Urban           Y  \n",
      "3                1         Urban           Y  \n",
      "4                1         Urban           Y  \n",
      "5                1         Urban           Y  \n",
      "6                0     Semiurban           N  \n",
      "7                1         Urban           Y  \n",
      "8                1     Semiurban           N  \n",
      "9                1         Urban           Y  \n",
      "10               1         Urban           Y  \n",
      "11               1         Rural           N  \n",
      "12               1         Urban           Y  \n",
      "13               1         Urban           Y  \n",
      "14               0         Urban           N  \n",
      "15               1         Rural           N  \n",
      "16               0         Urban           N  \n",
      "17               1         Urban           Y  \n",
      "18               0     Semiurban           N  \n",
      "19               1     Semiurban           Y  \n"
     ]
    }
   ],
   "source": [
    "print(dataset.head(20))"
   ]
  },
  {
   "cell_type": "code",
   "execution_count": 21,
   "id": "da29d3b0-b618-4c65-a59f-ec71f30f2db2",
   "metadata": {},
   "outputs": [
    {
     "name": "stdout",
     "output_type": "stream",
     "text": [
      "0.7708333333333334\n"
     ]
    }
   ],
   "source": [
    "#sklearn requires all inputs to be numeric,\n",
    "#we should convert all our categorical variables into numeric by encoding the categories. This can be done using the following code:\n",
    "\n",
    "from sklearn.preprocessing import LabelEncoder\n",
    "var_mod = ['Gender','Married','Dependents','Education','Self_Employed','Property_Area','Loan_Status']\n",
    "le = LabelEncoder()\n",
    "for i in var_mod:\n",
    "    dataset[i] = le.fit_transform(dataset[i])\n",
    "\n",
    "array = dataset.values\n",
    "\n",
    "X = array[:,6:11]\n",
    "Y = array[:,12]\n",
    "X = X.astype('int') \n",
    "Y = Y.astype('int')\n",
    "x_train, x_test, y_train, y_test = model_selection.train_test_split(X, Y, test_size=0.2, random_state=7)\n",
    "\n",
    "# Logistic Regression : Logistic Regression is a classification algorithm. \n",
    "# It is used to predict a binary outcome (1 / 0, Yes / No, True / False) given a set of independent variables. \n",
    "# To represent binary / categorical outcome, we use dummy variables\n",
    "model = LogisticRegression()\n",
    "model.fit(x_train,y_train)\n",
    "predictions = model.predict(x_test)\n",
    "print(accuracy_score(y_test, predictions))"
   ]
  },
  {
   "cell_type": "code",
   "execution_count": 22,
   "id": "bbe19a3d-a0c3-43bc-83e1-1b43cd677bfb",
   "metadata": {},
   "outputs": [
    {
     "name": "stdout",
     "output_type": "stream",
     "text": [
      "0.6458333333333334\n"
     ]
    }
   ],
   "source": [
    "# Decision tree : Decision tree is a type of supervised learning algorithm (having a pre-defined target variable)\n",
    "# that is mostly used in classification problems. It works for both categorical and continuous input and output variables\n",
    "\n",
    "model = DecisionTreeClassifier()\n",
    "model.fit(x_train,y_train)\n",
    "predictions = model.predict(x_test)\n",
    "print(accuracy_score(y_test, predictions))"
   ]
  },
  {
   "cell_type": "code",
   "execution_count": 23,
   "id": "fd74f18d-c521-4b09-bc6d-07a6f63c8351",
   "metadata": {},
   "outputs": [
    {
     "name": "stdout",
     "output_type": "stream",
     "text": [
      "0.7604166666666666\n"
     ]
    }
   ],
   "source": [
    "# Random forest : Random forests or random decision forests are an ensemble learning method for classification,\n",
    "# regression and other tasks, that operate by constructing a multitude of decision trees at training time and \n",
    "# outputting the class that is the mode of the classes (classification) or mean prediction (regression) of the individual trees\n",
    "\n",
    "model = RandomForestClassifier(n_estimators=100)\n",
    "model.fit(x_train,y_train)\n",
    "predictions = model.predict(x_test)\n",
    "print(accuracy_score(y_test, predictions))"
   ]
  },
  {
   "cell_type": "code",
   "execution_count": 25,
   "id": "6e077091-ef10-40a6-8470-6e5555cdb396",
   "metadata": {},
   "outputs": [],
   "source": [
    "# we can conclude Regression is the best model to test the data."
   ]
  },
  {
   "cell_type": "code",
   "execution_count": 28,
   "id": "68d9f1cd-a9bc-4211-9ac8-5c3af8274bab",
   "metadata": {},
   "outputs": [
    {
     "name": "stdout",
     "output_type": "stream",
     "text": [
      "[1]\n"
     ]
    }
   ],
   "source": [
    "model = LogisticRegression()\n",
    "model.fit(x_train,y_train)\n",
    "print(model.predict([[10,10,10,10,10]]))"
   ]
  },
  {
   "cell_type": "code",
   "execution_count": null,
   "id": "2e935362-0296-4222-b1ee-d603e51c6951",
   "metadata": {},
   "outputs": [],
   "source": []
  }
 ],
 "metadata": {
  "kernelspec": {
   "display_name": "Python 3",
   "language": "python",
   "name": "python3"
  },
  "language_info": {
   "codemirror_mode": {
    "name": "ipython",
    "version": 3
   },
   "file_extension": ".py",
   "mimetype": "text/x-python",
   "name": "python",
   "nbconvert_exporter": "python",
   "pygments_lexer": "ipython3",
   "version": "3.8.8"
  }
 },
 "nbformat": 4,
 "nbformat_minor": 5
}
